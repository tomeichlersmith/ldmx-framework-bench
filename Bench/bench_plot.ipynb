{
 "cells": [
  {
   "cell_type": "markdown",
   "id": "624120e7",
   "metadata": {},
   "source": [
    "# Bench\n",
    "\n",
    "Benchmark testing between ROOT-based fire and HDF5-based fire.\n",
    "\n",
    "The actual compiling and running of this module is done in the\n",
    "[benchmark GitHub action](../.github/workflows/bench.yml).\n",
    "\n",
    "In short, after compiling whichever version of the framework we are\n",
    "using against this module, we run the command\n",
    "\n",
    "```bash\n",
    "ldmx time fire config.py <num-events>\n",
    "```\n",
    "\n",
    "To time how long the processing takes. We do this over several trials\n",
    "and average the results for the time in seconds, and then\n",
    "\n",
    "```bash\n",
    "stat output/*\n",
    "```\n",
    "\n",
    "To obtain how large the output data file is in bytes.\n",
    "\n",
    "## This File\n",
    "This jupyter notebook uses a manually written CSV file where the average times and the output file sizes are copied from the GitHub action logs. These numbers could also be generated manually on a local machine if you so wish."
   ]
  },
  {
   "cell_type": "code",
   "execution_count": 32,
   "id": "9eebe20a",
   "metadata": {},
   "outputs": [],
   "source": [
    "import matplotlib.pyplot as plt\n",
    "import pandas as pd"
   ]
  },
  {
   "cell_type": "code",
   "execution_count": 33,
   "id": "504c4491",
   "metadata": {},
   "outputs": [
    {
     "data": {
      "text/html": [
       "<div>\n",
       "<style scoped>\n",
       "    .dataframe tbody tr th:only-of-type {\n",
       "        vertical-align: middle;\n",
       "    }\n",
       "\n",
       "    .dataframe tbody tr th {\n",
       "        vertical-align: top;\n",
       "    }\n",
       "\n",
       "    .dataframe thead th {\n",
       "        text-align: right;\n",
       "    }\n",
       "</style>\n",
       "<table border=\"1\" class=\"dataframe\">\n",
       "  <thead>\n",
       "    <tr style=\"text-align: right;\">\n",
       "      <th></th>\n",
       "      <th>runner</th>\n",
       "      <th>serializer</th>\n",
       "      <th>events</th>\n",
       "      <th>time</th>\n",
       "      <th>size</th>\n",
       "    </tr>\n",
       "  </thead>\n",
       "  <tbody>\n",
       "    <tr>\n",
       "      <th>0</th>\n",
       "      <td>docker</td>\n",
       "      <td>hdf5</td>\n",
       "      <td>1</td>\n",
       "      <td>0.042</td>\n",
       "      <td>41130</td>\n",
       "    </tr>\n",
       "    <tr>\n",
       "      <th>1</th>\n",
       "      <td>docker</td>\n",
       "      <td>root</td>\n",
       "      <td>1</td>\n",
       "      <td>0.244</td>\n",
       "      <td>12908</td>\n",
       "    </tr>\n",
       "    <tr>\n",
       "      <th>2</th>\n",
       "      <td>docker</td>\n",
       "      <td>hdf5</td>\n",
       "      <td>10</td>\n",
       "      <td>0.049</td>\n",
       "      <td>46113</td>\n",
       "    </tr>\n",
       "    <tr>\n",
       "      <th>3</th>\n",
       "      <td>docker</td>\n",
       "      <td>root</td>\n",
       "      <td>10</td>\n",
       "      <td>0.286</td>\n",
       "      <td>17663</td>\n",
       "    </tr>\n",
       "    <tr>\n",
       "      <th>4</th>\n",
       "      <td>docker</td>\n",
       "      <td>hdf5</td>\n",
       "      <td>100</td>\n",
       "      <td>0.051</td>\n",
       "      <td>79434</td>\n",
       "    </tr>\n",
       "    <tr>\n",
       "      <th>5</th>\n",
       "      <td>docker</td>\n",
       "      <td>root</td>\n",
       "      <td>100</td>\n",
       "      <td>0.292</td>\n",
       "      <td>53619</td>\n",
       "    </tr>\n",
       "    <tr>\n",
       "      <th>6</th>\n",
       "      <td>docker</td>\n",
       "      <td>hdf5</td>\n",
       "      <td>1000</td>\n",
       "      <td>0.060</td>\n",
       "      <td>416935</td>\n",
       "    </tr>\n",
       "    <tr>\n",
       "      <th>7</th>\n",
       "      <td>docker</td>\n",
       "      <td>root</td>\n",
       "      <td>1000</td>\n",
       "      <td>0.279</td>\n",
       "      <td>411848</td>\n",
       "    </tr>\n",
       "    <tr>\n",
       "      <th>8</th>\n",
       "      <td>docker</td>\n",
       "      <td>hdf5</td>\n",
       "      <td>10000</td>\n",
       "      <td>0.304</td>\n",
       "      <td>3875028</td>\n",
       "    </tr>\n",
       "    <tr>\n",
       "      <th>9</th>\n",
       "      <td>docker</td>\n",
       "      <td>root</td>\n",
       "      <td>10000</td>\n",
       "      <td>0.578</td>\n",
       "      <td>4112846</td>\n",
       "    </tr>\n",
       "    <tr>\n",
       "      <th>10</th>\n",
       "      <td>docker</td>\n",
       "      <td>hdf5</td>\n",
       "      <td>100000</td>\n",
       "      <td>2.861</td>\n",
       "      <td>38437882</td>\n",
       "    </tr>\n",
       "    <tr>\n",
       "      <th>11</th>\n",
       "      <td>docker</td>\n",
       "      <td>root</td>\n",
       "      <td>100000</td>\n",
       "      <td>4.421</td>\n",
       "      <td>41029296</td>\n",
       "    </tr>\n",
       "  </tbody>\n",
       "</table>\n",
       "</div>"
      ],
      "text/plain": [
       "    runner serializer  events   time      size\n",
       "0   docker       hdf5       1  0.042     41130\n",
       "1   docker       root       1  0.244     12908\n",
       "2   docker       hdf5      10  0.049     46113\n",
       "3   docker       root      10  0.286     17663\n",
       "4   docker       hdf5     100  0.051     79434\n",
       "5   docker       root     100  0.292     53619\n",
       "6   docker       hdf5    1000  0.060    416935\n",
       "7   docker       root    1000  0.279    411848\n",
       "8   docker       hdf5   10000  0.304   3875028\n",
       "9   docker       root   10000  0.578   4112846\n",
       "10  docker       hdf5  100000  2.861  38437882\n",
       "11  docker       root  100000  4.421  41029296"
      ]
     },
     "execution_count": 33,
     "metadata": {},
     "output_type": "execute_result"
    }
   ],
   "source": [
    "data = pd.read_csv('data.csv')\n",
    "data"
   ]
  },
  {
   "cell_type": "code",
   "execution_count": 34,
   "id": "99ec5b79",
   "metadata": {},
   "outputs": [],
   "source": [
    "# partition dataset into two different serializers\n",
    "hdf5_bench = data[data['serializer'] == 'hdf5']\n",
    "root_bench = data[data['serializer'] == 'root']"
   ]
  },
  {
   "cell_type": "code",
   "execution_count": 37,
   "id": "e777e3d3",
   "metadata": {},
   "outputs": [
    {
     "data": {
      "image/png": "[encoded data removed]",
      "text/plain": [
       "<Figure size 432x288 with 1 Axes>"
      ]
     },
     "metadata": {
      "needs_background": "light"
     },
     "output_type": "display_data"
    }
   ],
   "source": [
    "plt.yscale('log')\n",
    "plt.xscale('log')\n",
    "plt.xlabel('N Events')\n",
    "plt.ylabel('Run Time [s]')\n",
    "plt.plot(hdf5_bench['events'],hdf5_bench['time'],label='hdf5')\n",
    "plt.plot(root_bench['events'],root_bench['time'],label='root')\n",
    "plt.legend()\n",
    "plt.show()"
   ]
  },
  {
   "cell_type": "code",
   "execution_count": 39,
   "id": "364c68de",
   "metadata": {},
   "outputs": [
    {
     "data": {
      "image/png": "[encoded data removed]",
      "text/plain": [
       "<Figure size 432x288 with 1 Axes>"
      ]
     },
     "metadata": {
      "needs_background": "light"
     },
     "output_type": "display_data"
    }
   ],
   "source": [
    "plt.yscale('log')\n",
    "plt.xscale('log')\n",
    "plt.xlabel('N Events')\n",
    "plt.ylabel('Output File Size [MB]')\n",
    "plt.plot(hdf5_bench['events'],hdf5_bench['size']/1e6,label='hdf5')\n",
    "plt.plot(root_bench['events'],root_bench['size']/1e6,label='root')\n",
    "plt.legend()\n",
    "plt.show()"
   ]
  }
 ],
 "metadata": {
  "kernelspec": {
   "display_name": "Python 3 (ipykernel)",
   "language": "python",
   "name": "python3"
  },
  "language_info": {
   "codemirror_mode": {
    "name": "ipython",
    "version": 3
   },
   "file_extension": ".py",
   "mimetype": "text/x-python",
   "name": "python",
   "nbconvert_exporter": "python",
   "pygments_lexer": "ipython3",
   "version": "3.8.10"
  }
 },
 "nbformat": 4,
 "nbformat_minor": 5
}
